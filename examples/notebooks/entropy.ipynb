{
 "cells": [
  {
   "cell_type": "markdown",
   "metadata": {},
   "source": [
    "# Entropy Based Sampling With Uncertainty Tokens"
   ]
  },
  {
   "cell_type": "code",
   "execution_count": null,
   "metadata": {
    "vscode": {
     "languageId": "shellscript"
    }
   },
   "outputs": [],
   "source": [
    "! git clone https://github.com/genlm/llamppl\n",
    "! cd hfppl && pip install ."
   ]
  },
  {
   "cell_type": "markdown",
   "metadata": {},
   "source": [
    "## Imports, Constants, and Utils"
   ]
  },
  {
   "cell_type": "code",
   "execution_count": null,
   "metadata": {},
   "outputs": [],
   "source": [
    "import asyncio\n",
    "import math\n",
    "import numpy as np\n",
    "import re\n",
    "import torch\n",
    "import torch.nn.functional as F\n",
    "\n",
    "from llamppl import smc_steer\n",
    "from llamppl import Model, LMContext, CachedCausalLM, TokenCategorical, Token\n",
    "from llamppl import log_softmax\n",
    "\n",
    "from scipy.stats import entropy\n",
    "from scipy.spatial.distance import cosine\n",
    "\n",
    "from typing import List, Set\n",
    "\n",
    "GREEN = \"\\033[92m\"\n",
    "RED = \"\\033[91m\"\n",
    "YELLOW = \"\\033[93m\"\n",
    "END = \"\\033[0m\"\n",
    "\n",
    "def pretty_format(particle):\n",
    "    context_str = str(particle.context)\n",
    "    new_context_str = re.sub(f\"({re.escape(uncertainty_token)})\", f\"{YELLOW}\\\\1{END}\", context_str)\n",
    "    return f\"{new_context_str} (weight: {RED}{particle.weight:.3f}{END})\\n\""
   ]
  },
  {
   "cell_type": "markdown",
   "metadata": {},
   "source": [
    "## Parameters"
   ]
  },
  {
   "cell_type": "code",
   "execution_count": null,
   "metadata": {},
   "outputs": [],
   "source": [
    "prompt = \"Which number is larger, 9.11 or 9.9?\"\n",
    "uncertainty_token = \"wait...\"\n",
    "\n",
    "NUM_PARTICLES = 3\n",
    "BEAM_FACTOR = 3\n",
    "ENTROPY_THRESHOLD = 2.5\n",
    "MAX_TOKENS = 50\n",
    "ITERATIONS = 1"
   ]
  },
  {
   "cell_type": "markdown",
   "metadata": {},
   "source": [
    "## Model Definition"
   ]
  },
  {
   "cell_type": "code",
   "execution_count": null,
   "metadata": {},
   "outputs": [],
   "source": [
    "class NightwingEntropyModel(Model):\n",
    "    def __init__(\n",
    "        self,\n",
    "        lm: CachedCausalLM,\n",
    "        prompt: str,\n",
    "        uncertainty_token: str = \"Wait...\",\n",
    "        entropy_threshold: float = 3.0,\n",
    "        max_tokens: int = 100,\n",
    "        min_tokens_between_uncertainty: int = 50\n",
    "    ):\n",
    "        super().__init__()\n",
    "\n",
    "        print(f\"\\nInitializing model...\")\n",
    "\n",
    "        self.lm = lm\n",
    "        self.context = LMContext(lm, prompt)\n",
    "        self.uncertainty_tokens = self.lm.tokenizer.encode(\n",
    "            f\" {uncertainty_token}\", # Encode uncertainty token with a space in front\n",
    "            add_special_tokens=False\n",
    "        )\n",
    "        self.entropy_threshold = entropy_threshold\n",
    "        self.max_tokens = max_tokens\n",
    "\n",
    "        # Tracking uncertainty\n",
    "        self.min_tokens_between_uncertainty = min_tokens_between_uncertainty\n",
    "        self.generated_tokens = []\n",
    "        self.last_uncertainty_pos = -self.min_tokens_between_uncertainty\n",
    "        self.is_generating_uncertainty = False\n",
    "\n",
    "\n",
    "    # Entropy calculation with LSE and normalization\n",
    "    def calculate_entropy(self, logprobs: np.ndarray) -> float:\n",
    "        probs = np.exp(logprobs - np.max(logprobs)) # log-sum-exp\n",
    "        probs = probs / np.sum(probs) # Normalize\n",
    "\n",
    "        return float(-np.sum(probs * np.log(probs + 1e-10))) # Add constant to avoid taking log(0)\n",
    "\n",
    "    # Step method for SMC\n",
    "    async def step(self):\n",
    "        if len(self.generated_tokens) >= self.max_tokens:\n",
    "            self.finish()\n",
    "            return\n",
    "\n",
    "        # Current position in generated output\n",
    "        current_pos = len(self.generated_tokens)\n",
    "        \n",
    "        # If we aren't currently inserting uncertainty tokens\n",
    "        # And we're outside of the minimum distance to insert tokens\n",
    "        if (not self.is_generating_uncertainty and \n",
    "            current_pos - self.last_uncertainty_pos >= self.min_tokens_between_uncertainty):\n",
    "            \n",
    "            # Calculate entropy values\n",
    "            logprobs = self.context.next_token_logprobs\n",
    "            current_entropy = self.calculate_entropy(logprobs)\n",
    "            \n",
    "            # If entropy is above the threshold and it's not the first token\n",
    "            if current_entropy > self.entropy_threshold and current_pos != 0:\n",
    "                self.is_generating_uncertainty = True\n",
    "                self.last_uncertainty_pos = current_pos\n",
    "\n",
    "        # Observe the uncertainty token\n",
    "        if self.is_generating_uncertainty:\n",
    "            if len(self.generated_tokens) - self.last_uncertainty_pos < len(self.uncertainty_tokens):\n",
    "\n",
    "                # Create token\n",
    "                token_idx = len(self.generated_tokens) - self.last_uncertainty_pos\n",
    "                token = Token(self.lm, self.uncertainty_tokens[token_idx], self.lm.tokenizer.decode(self.uncertainty_tokens[token_idx]))\n",
    "\n",
    "                # Observe the token over the next token distribution\n",
    "                next_dist = self.context.next_token()\n",
    "                await self.observe(next_dist, token)\n",
    "                self.score(0.2)\n",
    "\n",
    "                self.generated_tokens.append(token)\n",
    "                if token_idx == len(self.uncertainty_tokens) - 1:\n",
    "                    self.is_generating_uncertainty = False\n",
    "            return\n",
    "\n",
    "        # Normal sampling behavior\n",
    "        next_dist = self.context.next_token()\n",
    "        token = await self.sample(next_dist)\n",
    "        self.score(1.0)\n",
    "        self.generated_tokens.append(token)\n",
    "\n",
    "        if token.token_id == self.lm.tokenizer.eos_token_id:\n",
    "            self.finish()"
   ]
  },
  {
   "cell_type": "markdown",
   "metadata": {},
   "source": [
    "## Run SMC"
   ]
  },
  {
   "cell_type": "code",
   "execution_count": null,
   "metadata": {},
   "outputs": [],
   "source": [
    "lm = CachedCausalLM.from_pretrained(\"NousResearch/Hermes-3-Llama-3.2-3B\", backend='hf')\n",
    "lm.batch_size = 16\n",
    "\n",
    "model = NightwingEntropyModel(\n",
    "    lm=lm,\n",
    "    prompt=prompt,\n",
    "    uncertainty_token=uncertainty_token,\n",
    "    entropy_threshold=ENTROPY_THRESHOLD,\n",
    "    max_tokens=MAX_TOKENS\n",
    ")\n",
    "\n",
    "print(f\"\\nSteering with smc_steer with {GREEN}{NUM_PARTICLES}{END} particles and beam factor {GREEN}{BEAM_FACTOR}{END}\")\n",
    "\n",
    "for i in range(ITERATIONS):\n",
    "    particles = await smc_steer(model, NUM_PARTICLES, BEAM_FACTOR)\n",
    "\n",
    "    print(f\"\\n{GREEN}{prompt}{END}\")\n",
    "    for particle in particles:\n",
    "        print(pretty_format(particle))"
   ]
  }
 ],
 "metadata": {
  "language_info": {
   "name": "python"
  },
  "orig_nbformat": 4
 },
 "nbformat": 4,
 "nbformat_minor": 2
}
