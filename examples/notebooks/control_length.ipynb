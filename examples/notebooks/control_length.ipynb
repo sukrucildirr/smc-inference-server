{
 "cells": [
  {
   "cell_type": "markdown",
   "metadata": {},
   "source": [
    "# Entropy Based Sampling With Uncertainty Tokens"
   ]
  },
  {
   "cell_type": "code",
   "execution_count": null,
   "metadata": {
    "vscode": {
     "languageId": "shellscript"
    }
   },
   "outputs": [],
   "source": [
    "! git clone https://github.com/genlm/llamppl\n",
    "! cd hfppl && pip install ."
   ]
  },
  {
   "cell_type": "markdown",
   "metadata": {},
   "source": [
    "## Imports, Constants, and Utils"
   ]
  },
  {
   "cell_type": "code",
   "execution_count": null,
   "metadata": {},
   "outputs": [],
   "source": [
    "import asyncio\n",
    "import math\n",
    "import numpy as np\n",
    "import re\n",
    "import torch\n",
    "import torch.nn.functional as F\n",
    "\n",
    "from llamppl import smc_steer\n",
    "from llamppl import Model, LMContext, CachedCausalLM, TokenCategorical, Token\n",
    "from llamppl import log_softmax\n",
    "\n",
    "from scipy.stats import entropy\n",
    "from scipy.spatial.distance import cosine\n",
    "\n",
    "from typing import List, Set\n",
    "\n",
    "GREEN = \"\\033[92m\"\n",
    "RED = \"\\033[91m\"\n",
    "YELLOW = \"\\033[93m\"\n",
    "END = \"\\033[0m\"\n",
    "\n",
    "def pretty_format(particle):\n",
    "    context_str = str(particle.context)\n",
    "    new_context_str = re.sub(f\"({re.escape(uncertainty_token)})\", f\"{YELLOW}\\\\1{END}\", context_str)\n",
    "    return f\"{new_context_str} (weight: {RED}{particle.weight:.3f}{END})\\n\""
   ]
  },
  {
   "cell_type": "markdown",
   "metadata": {},
   "source": [
    "## Parameters"
   ]
  },
  {
   "cell_type": "code",
   "execution_count": null,
   "metadata": {},
   "outputs": [],
   "source": [
    "prompt = \"Vignette goes here\"\n",
    "MAX_TOKENS = 50\n",
    "\n",
    "NUM_PARTICLES = 3\n",
    "BEAM_FACTOR = 3"
   ]
  },
  {
   "cell_type": "markdown",
   "metadata": {},
   "source": [
    "## Model Definition"
   ]
  },
  {
   "cell_type": "code",
   "execution_count": null,
   "metadata": {},
   "outputs": [],
   "source": [
    "class NightwingLengthModel(Model):\n",
    "    def __init__(\n",
    "        self,\n",
    "        lm: CachedCausalLM,\n",
    "        prompt: str,\n",
    "        max_tokens: int = 100\n",
    "    ):\n",
    "        super().__init__()\n",
    "\n",
    "        print(f\"\\nInitializing model...\")\n",
    "\n",
    "        self.lm = lm\n",
    "        self.context = LMContext(lm, prompt)\n",
    "        self.max_tokens = max_tokens\n",
    "\n",
    "    # Step method for SMC\n",
    "    async def step(self):\n",
    "        # Normal sampling behavior\n",
    "        next_dist = self.context.next_token()\n",
    "        token = await self.sample(next_dist)\n",
    "\n",
    "        if token.token_id == self.lm.tokenizer.eos_token_id or len(self.generated_tokens) == self.max_tokens:\n",
    "            self.finish()"
   ]
  },
  {
   "cell_type": "markdown",
   "metadata": {},
   "source": [
    "## Run SMC"
   ]
  },
  {
   "cell_type": "code",
   "execution_count": null,
   "metadata": {},
   "outputs": [],
   "source": [
    "lm = CachedCausalLM.from_pretrained(\"NousResearch/Hermes-3-Llama-3.2-3B\", backed='hf')\n",
    "lm.batch_size = 16\n",
    "\n",
    "model = NightwingLengthModel(\n",
    "    lm=lm,\n",
    "    prompt=prompt,\n",
    "    max_tokens=MAX_TOKENS\n",
    ")\n",
    "\n",
    "print(f\"\\nSteering with smc_steer with {GREEN}{NUM_PARTICLES}{END} particles and beam factor {GREEN}{BEAM_FACTOR}{END}\")\n",
    "\n",
    "for i in range(ITERATIONS):\n",
    "    particles = await smc_steer(model, NUM_PARTICLES, BEAM_FACTOR)\n",
    "\n",
    "    print(f\"\\n{GREEN}{prompt}{END}\")\n",
    "    for particle in particles:\n",
    "        print(pretty_format(particle))"
   ]
  }
 ],
 "metadata": {
  "language_info": {
   "name": "python"
  },
  "orig_nbformat": 4
 },
 "nbformat": 4,
 "nbformat_minor": 2
}
